{
  "cells": [
    {
      "cell_type": "markdown",
      "metadata": {
        "id": "view-in-github",
        "colab_type": "text"
      },
      "source": [
        "<a href=\"https://colab.research.google.com/github/MaryObr/sem/blob/main/Welcome_to_Colaboratory.ipynb\" target=\"_parent\"><img src=\"https://colab.research.google.com/assets/colab-badge.svg\" alt=\"Open In Colab\"/></a>"
      ]
    },
    {
      "cell_type": "code",
      "source": [
        "import pandas as pd\n",
        "data = pd.read_csv(\"https://raw.githubusercontent.com/aaaksenova/NLP-Homework/main/movie_metadata.csv\")\n",
        "def stats(data):\n",
        "  # Процент цветных фильмов в датафрейме\n",
        "  print((data[\"color\"] == \"Color\").value_counts())\n",
        "  # Топ-5 самых частотных режиссеров и число их фильмов в датасете\n",
        "  print(data[\"director_name\"].value_counts().head(5))\n",
        "  # Средняя и медианная длину фильма\n",
        "  print(data[\"duration\"].median())\n",
        "  print(data[\"duration\"].mean()) \n",
        "  # Число фильмов в ключевых словах которых есть слово love или слово romance с оценкой больше 7\n",
        "  print(((data.genres.str.contains(\"Romance\")) | (data.genres.str.contains(\"Love\")) & (data[\"imdb_score\"] > 7 )).value_counts())\n",
        "  # Топ-5 самых частотных жанров\n",
        "  l = []\n",
        "  for i in range(len(data.genres.str.split(\"|\"))):\n",
        "    for j in range(len(data.genres.str.split(\"|\")[i])):\n",
        "      l.append(data.genres.str.split(\"|\")[i][j])\n",
        "  dict = {\"AAA\": l}\n",
        "  df = pd.DataFrame(dict)\n",
        "  print(df[\"AAA\"].value_counts().head(5))\n",
        "  return\n",
        "\n",
        "stats(data)"
      ],
      "metadata": {
        "colab": {
          "base_uri": "https://localhost:8080/"
        },
        "id": "t0aHyF9ox1hr",
        "outputId": "343475ed-21ec-4e2a-ae90-e5d8e469c19b"
      },
      "execution_count": 14,
      "outputs": [
        {
          "output_type": "stream",
          "name": "stdout",
          "text": [
            "True     4815\n",
            "False     228\n",
            "Name: color, dtype: int64\n",
            "Steven Spielberg    26\n",
            "Woody Allen         22\n",
            "Clint Eastwood      20\n",
            "Martin Scorsese     20\n",
            "Ridley Scott        17\n",
            "Name: director_name, dtype: int64\n",
            "103.0\n",
            "107.2010739856802\n",
            "False    3936\n",
            "True     1107\n",
            "dtype: int64\n",
            "Drama       2594\n",
            "Comedy      1872\n",
            "Thriller    1411\n",
            "Action      1153\n",
            "Romance     1107\n",
            "Name: AAA, dtype: int64\n"
          ]
        }
      ]
    },
    {
      "cell_type": "code",
      "source": [
        "def df2json:\n",
        "  "
      ],
      "metadata": {
        "id": "-JN5ORiwddTN"
      },
      "execution_count": null,
      "outputs": []
    }
  ],
  "metadata": {
    "colab": {
      "name": "Welcome to Colaboratory",
      "toc_visible": true,
      "provenance": [],
      "include_colab_link": true
    },
    "kernelspec": {
      "display_name": "Python 3",
      "name": "python3"
    }
  },
  "nbformat": 4,
  "nbformat_minor": 0
}