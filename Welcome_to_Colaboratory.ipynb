{
  "cells": [
    {
      "cell_type": "markdown",
      "metadata": {
        "id": "view-in-github",
        "colab_type": "text"
      },
      "source": [
        "<a href=\"https://colab.research.google.com/github/MaryObr/sem/blob/main/Welcome_to_Colaboratory.ipynb\" target=\"_parent\"><img src=\"https://colab.research.google.com/assets/colab-badge.svg\" alt=\"Open In Colab\"/></a>"
      ]
    },
    {
      "cell_type": "code",
      "source": [
        "import pandas as pd\n",
        "data = pd.read_csv(\"https://raw.githubusercontent.com/aaaksenova/NLP-Homework/main/movie_metadata.csv\")\n",
        "(data[\"color\"] == \"Color\").value_counts(True)\n",
        "data[\"director_name\"].value_counts().head(5)\n",
        "data[\"duration\"].describe() # как только среднюю длину и медиану выводить\n",
        "# print(data)\n",
        "((data.genres.str.contains(\"Romance\")) | (data.genres.str.contains(\"Love\")) & (data[\"imdb_score\"] > 7 )).value_counts()\n",
        "\n"
      ],
      "metadata": {
        "colab": {
          "base_uri": "https://localhost:8080/"
        },
        "id": "t0aHyF9ox1hr",
        "outputId": "c04947db-34c8-4768-ca45-02b7d6114c4d"
      },
      "execution_count": 58,
      "outputs": [
        {
          "output_type": "execute_result",
          "data": {
            "text/plain": [
              "False    3936\n",
              "True     1107\n",
              "dtype: int64"
            ]
          },
          "metadata": {},
          "execution_count": 58
        }
      ]
    }
  ],
  "metadata": {
    "colab": {
      "name": "Welcome to Colaboratory",
      "toc_visible": true,
      "provenance": [],
      "include_colab_link": true
    },
    "kernelspec": {
      "display_name": "Python 3",
      "name": "python3"
    }
  },
  "nbformat": 4,
  "nbformat_minor": 0
}